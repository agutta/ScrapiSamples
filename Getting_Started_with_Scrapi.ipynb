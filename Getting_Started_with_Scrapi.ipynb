{
  "nbformat": 4,
  "nbformat_minor": 0,
  "metadata": {
    "colab": {
      "provenance": [],
      "toc_visible": true,
      "authorship_tag": "ABX9TyOYKInGjhSo/ZUSQcgFyQhK",
      "include_colab_link": true
    },
    "kernelspec": {
      "name": "python3",
      "display_name": "Python 3"
    },
    "language_info": {
      "name": "python"
    }
  },
  "cells": [
    {
      "cell_type": "markdown",
      "metadata": {
        "id": "view-in-github",
        "colab_type": "text"
      },
      "source": [
        "<a href=\"https://colab.research.google.com/github/agutta/ScrapiSamples/blob/main/Getting_Started_with_Scrapi.ipynb\" target=\"_parent\"><img src=\"https://colab.research.google.com/assets/colab-badge.svg\" alt=\"Open In Colab\"/></a>"
      ]
    },
    {
      "cell_type": "markdown",
      "source": [
        "\n",
        "\n",
        "```\n",
        "# This is formatted as code\n",
        "```\n",
        "\n",
        "#Initialize Project and Authenticate"
      ],
      "metadata": {
        "id": "8Ayz4LKSIhdR"
      }
    },
    {
      "cell_type": "code",
      "execution_count": null,
      "metadata": {
        "id": "bXwLwjnMEC0U"
      },
      "outputs": [],
      "source": [
        "project_id = 'PROJECT_ID'\n",
        "\n",
        "# this will launch an interactive prompt that allows you to auth with GCP in a browser\n",
        "!gcloud auth application-default login --no-launch-browser\n",
        "\n",
        "# this will set your active project to the `project_id` above\n",
        "!gcloud auth application-default set-quota-project $project_id\n"
      ]
    },
    {
      "cell_type": "markdown",
      "source": [
        "# Install Scrapi"
      ],
      "metadata": {
        "id": "qjied8fdJFJn"
      }
    },
    {
      "cell_type": "code",
      "source": [
        "!pip install dfcx_scrapi"
      ],
      "metadata": {
        "id": "CJoDw7LDE1_E"
      },
      "execution_count": null,
      "outputs": []
    },
    {
      "cell_type": "markdown",
      "source": [
        "# Provide Agent ID and see if it works"
      ],
      "metadata": {
        "id": "LX8Y--95Jv3E"
      }
    },
    {
      "cell_type": "code",
      "source": [
        "from dfcx_scrapi.core.intents import Intents\n",
        "\n",
        "agent_id = 'projects/tfcode/locations/us-central1/agents/1b2e0713-bc01-441d-9705-662e8f73f4cf'\n",
        "i = Intents() # <-- Creds will be automatically picked up from the environment\n",
        "intents_map = i.get_intents_map(agent_id)\n",
        "\n",
        "print(intents_map)"
      ],
      "metadata": {
        "colab": {
          "base_uri": "https://localhost:8080/"
        },
        "id": "pCmuH0tXERhT",
        "outputId": "18035c77-f8d4-4fa0-de56-49d53c612514"
      },
      "execution_count": null,
      "outputs": [
        {
          "output_type": "stream",
          "name": "stdout",
          "text": [
            "{'projects/tfcode/locations/us-central1/agents/1b2e0713-bc01-441d-9705-662e8f73f4cf/intents/00000000-0000-0000-0000-000000000000': 'Default Welcome Intent', 'projects/tfcode/locations/us-central1/agents/1b2e0713-bc01-441d-9705-662e8f73f4cf/intents/00000000-0000-0000-0000-000000000001': 'Default Negative Intent', 'projects/tfcode/locations/us-central1/agents/1b2e0713-bc01-441d-9705-662e8f73f4cf/intents/1a8c9fb3-f9b5-4b15-af4b-9ef43ee60394': 'prebuilt_components_dob_collection_composite_intent', 'projects/tfcode/locations/us-central1/agents/1b2e0713-bc01-441d-9705-662e8f73f4cf/intents/4abaad91-92ca-403b-bb85-1ddf8c367fb7': 'prebuilt_components_dob_collection_collect_year', 'projects/tfcode/locations/us-central1/agents/1b2e0713-bc01-441d-9705-662e8f73f4cf/intents/5828574c-1cb6-4e48-8b0c-b28a3619a8b0': 'prebuilt_components_playback', 'projects/tfcode/locations/us-central1/agents/1b2e0713-bc01-441d-9705-662e8f73f4cf/intents/7bc83c9b-7e3f-4256-8784-f3aa73da5e33': 'prebuilt_components_dob_collection_collect_incorrect_part', 'projects/tfcode/locations/us-central1/agents/1b2e0713-bc01-441d-9705-662e8f73f4cf/intents/85c1e72e-606a-41da-b0a9-1b6c57ff3152': 'prebuilt_components_dob_collection_collect_month', 'projects/tfcode/locations/us-central1/agents/1b2e0713-bc01-441d-9705-662e8f73f4cf/intents/a3f974c5-37fe-4251-bc7a-0c4a09a89f62': 'prebuilt_components_escalate_human_agent', 'projects/tfcode/locations/us-central1/agents/1b2e0713-bc01-441d-9705-662e8f73f4cf/intents/b10089ce-4f9c-4540-8e3f-df140a45928d': 'prebuilt_components_replay', 'projects/tfcode/locations/us-central1/agents/1b2e0713-bc01-441d-9705-662e8f73f4cf/intents/b90e8a5e-f2a9-49b1-a0e7-2431b5c7f2f8': 'prebuilt_components_ready', 'projects/tfcode/locations/us-central1/agents/1b2e0713-bc01-441d-9705-662e8f73f4cf/intents/c120c791-7553-4648-9719-1aefd163facf': 'prebuilt_components_dob_collection_year_short_format', 'projects/tfcode/locations/us-central1/agents/1b2e0713-bc01-441d-9705-662e8f73f4cf/intents/dd9adb79-ddda-4b9c-bdeb-cbe734afb46f': 'prebuilt_components_confirmation_no', 'projects/tfcode/locations/us-central1/agents/1b2e0713-bc01-441d-9705-662e8f73f4cf/intents/e44c8f9c-4cfe-461f-aa4f-acb860b498a4': 'prebuilt_components_waiting_room', 'projects/tfcode/locations/us-central1/agents/1b2e0713-bc01-441d-9705-662e8f73f4cf/intents/f1362c0d-8d31-4f4d-a270-449fb6132ce7': 'prebuilt_components_dob_collection_collect_day', 'projects/tfcode/locations/us-central1/agents/1b2e0713-bc01-441d-9705-662e8f73f4cf/intents/f2480536-64fe-49e9-9ee6-1b9325a751a2': 'prebuilt_components_confirmation_yes'}\n"
          ]
        }
      ]
    }
  ]
}