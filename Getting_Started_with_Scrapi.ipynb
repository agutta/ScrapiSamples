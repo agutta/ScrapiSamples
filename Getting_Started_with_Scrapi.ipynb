{
  "nbformat": 4,
  "nbformat_minor": 0,
  "metadata": {
    "colab": {
      "provenance": [],
      "toc_visible": true,
      "authorship_tag": "ABX9TyMsziFHwJ/eAwDxKZ3I6jq9",
      "include_colab_link": true
    },
    "kernelspec": {
      "name": "python3",
      "display_name": "Python 3"
    },
    "language_info": {
      "name": "python"
    }
  },
  "cells": [
    {
      "cell_type": "markdown",
      "metadata": {
        "id": "view-in-github",
        "colab_type": "text"
      },
      "source": [
        "<a href=\"https://colab.research.google.com/github/agutta/ScrapiSamples/blob/main/Getting_Started_with_Scrapi.ipynb\" target=\"_parent\"><img src=\"https://colab.research.google.com/assets/colab-badge.svg\" alt=\"Open In Colab\"/></a>"
      ]
    },
    {
      "cell_type": "markdown",
      "source": [
        "\n",
        "\n",
        "```\n",
        "# This is formatted as code\n",
        "```\n",
        "\n",
        "#Initialize Project and Authenticate"
      ],
      "metadata": {
        "id": "8Ayz4LKSIhdR"
      }
    },
    {
      "cell_type": "code",
      "execution_count": null,
      "metadata": {
        "id": "bXwLwjnMEC0U"
      },
      "outputs": [],
      "source": [
        "project_id = 'PROJECT_ID'\n",
        "\n",
        "# this will launch an interactive prompt that allows you to auth with GCP in a browser\n",
        "!gcloud auth application-default login --no-launch-browser\n",
        "\n",
        "# this will set your active project to the `project_id` above\n",
        "!gcloud auth application-default set-quota-project $project_id\n"
      ]
    },
    {
      "cell_type": "markdown",
      "source": [
        "# Install Scrapi"
      ],
      "metadata": {
        "id": "qjied8fdJFJn"
      }
    },
    {
      "cell_type": "code",
      "source": [
        "!pip install dfcx_scrapi"
      ],
      "metadata": {
        "id": "CJoDw7LDE1_E"
      },
      "execution_count": null,
      "outputs": []
    },
    {
      "cell_type": "markdown",
      "source": [
        "# Provide Agent ID and see if it works"
      ],
      "metadata": {
        "id": "LX8Y--95Jv3E"
      }
    },
    {
      "cell_type": "code",
      "source": [
        "from dfcx_scrapi.core.intents import Intents\n",
        "\n",
        "# sample format for agent-id is projects/project_id/locations/us-central1/agents/agent-id\n",
        "agent_id = ''\n",
        "i = Intents() # <-- Creds will be automatically picked up from the environment\n",
        "intents_map = i.get_intents_map(agent_id)\n",
        "\n",
        "print(intents_map)"
      ],
      "metadata": {
        "id": "pCmuH0tXERhT"
      },
      "execution_count": null,
      "outputs": []
    }
  ]
}